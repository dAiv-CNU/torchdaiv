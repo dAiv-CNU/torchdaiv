{
  "nbformat": 4,
  "nbformat_minor": 0,
  "metadata": {
    "colab": {
      "provenance": [],
      "gpuType": "T4"
    },
    "kernelspec": {
      "name": "python3",
      "display_name": "Python 3"
    },
    "language_info": {
      "name": "python"
    },
    "accelerator": "GPU"
  },
  "cells": [
    {
      "cell_type": "markdown",
      "source": [
        "num1, op, num2 형식의 입력을 받아 학습을 통해 분류\n",
        "현재 9, 9까지 가능\n",
        "\n",
        "---\n",
        "\n"
      ],
      "metadata": {
        "id": "wgrK07RFwA5n"
      }
    },
    {
      "cell_type": "markdown",
      "source": [
        "## Imports"
      ],
      "metadata": {
        "id": "mKR77QqS7gKe"
      }
    },
    {
      "cell_type": "code",
      "source": [
        "from platform import system\n",
        "\n",
        "if system() == \"Windows\":\n",
        "    %pip install torch torchvision torchaudio --index-url https://download.pytorch.org/whl/cu128\n",
        "else:\n",
        "    %pip install torch torchvision torchaudio"
      ],
      "metadata": {
        "id": "ErYHjPEI7mBJ"
      },
      "execution_count": null,
      "outputs": []
    },
    {
      "cell_type": "code",
      "source": [
        "%pip install matplotlib tqdm numpy pandas scipy jupyter ipywidgets\n",
        "%pip install git+https://github.com/dAiv-CNU/torchdaiv.git"
      ],
      "metadata": {
        "id": "LSr5EFcP7nxu"
      },
      "execution_count": null,
      "outputs": []
    },
    {
      "cell_type": "code",
      "source": [
        "import torch\n",
        "from torch import nn\n",
        "import torch.nn.functional as F\n",
        "from torchvision import transforms\n",
        "import torch.optim as optim\n",
        "import random\n",
        "from torch.utils.data import Dataset, DataLoader\n",
        "\n",
        "# from torchdaiv.lectures.RNN import util"
      ],
      "metadata": {
        "id": "BnFKNvz77q1U"
      },
      "execution_count": null,
      "outputs": []
    },
    {
      "cell_type": "markdown",
      "source": [
        "## Load Data"
      ],
      "metadata": {
        "id": "JUpUeE_xBkLb"
      }
    },
    {
      "cell_type": "markdown",
      "source": [
        "## Practice - MLP를 사용한 계산기 만들기"
      ],
      "metadata": {
        "id": "LF4X8mcfAjaG"
      }
    },
    {
      "cell_type": "code",
      "source": [
        "# 사칙연산 계산 함수\n",
        "def calculate(num1, op_idx, num2):\n",
        "    if op_idx == 0:\n",
        "        return num1 + num2\n",
        "    elif op_idx == 1:\n",
        "        return num1 - num2\n",
        "    elif op_idx == 2:\n",
        "        return num1 * num2\n",
        "    elif op_idx == 3:\n",
        "        return num1 // num2 if num2 != 0 else 0"
      ],
      "metadata": {
        "id": "zinslqUQDSt3"
      },
      "execution_count": null,
      "outputs": []
    },
    {
      "cell_type": "code",
      "source": [
        "class ArithmeticDataset(Dataset):\n",
        "    def __init__(self, num_samples=1000):\n",
        "        super().__init__()\n",
        "        self.data = []\n",
        "        self.labels = []\n",
        "        for _ in range(num_samples):\n",
        "            num1 = random.randint(0, 9)\n",
        "            num2 = random.randint(1, 9)  # 0 나눗셈 방지\n",
        "            op_idx = random.randint(0, 3)\n",
        "            x = torch.tensor([num1, op_idx, num2], dtype=torch.float32)\n",
        "            y = calculate(num1, op_idx, num2)\n",
        "            self.data.append(x)\n",
        "            self.labels.append(torch.tensor([y], dtype=torch.float32))\n",
        "\n",
        "    def __len__(self):\n",
        "        return len(self.data)\n",
        "\n",
        "    def __getitem__(self, idx):\n",
        "        return self.data[idx], self.labels[idx]"
      ],
      "metadata": {
        "id": "YcXzTt87Wfx3"
      },
      "execution_count": null,
      "outputs": []
    },
    {
      "cell_type": "code",
      "source": [
        "# 모델 정의 (MLP)\n",
        "class CalculateMLP(nn.Module):\n",
        "    def __init__(self, input_dim=3, hidden_dim=64, output_dim=1):\n",
        "        super().__init__()\n",
        "        self.net = nn.Sequential(\n",
        "            nn.Linear(input_dim, hidden_dim),\n",
        "            nn.ReLU(),\n",
        "            nn.ReLU(),\n",
        "            nn.Linear(hidden_dim, output_dim)\n",
        "        )\n",
        "\n",
        "    def forward(self, x):\n",
        "        return self.net(x)\n",
        "\n",
        "calculatemlp = CalculateMLP()"
      ],
      "metadata": {
        "id": "dBzTXMHUDYRU"
      },
      "execution_count": null,
      "outputs": []
    },
    {
      "cell_type": "code",
      "source": [
        "# 하이퍼파라미터 설정\n",
        "MODEL_PARAMS = dict(\n",
        "    input_dim=3,\n",
        "    hidden_dim=64,\n",
        "    output_dim=1  # 0 ~ 9\n",
        ")"
      ],
      "metadata": {
        "id": "ECDtmfRYG8co"
      },
      "execution_count": null,
      "outputs": []
    },
    {
      "cell_type": "code",
      "source": [
        "# 데이터 로더\n",
        "train_dataset = ArithmeticDataset(num_samples=2000)\n",
        "test_dataset = ArithmeticDataset(num_samples=300)\n",
        "\n",
        "batch_size = 64\n",
        "\n",
        "train_loader = DataLoader(train_dataset, batch_size=batch_size, shuffle=True)\n",
        "test_loader = DataLoader(test_dataset, batch_size=len(test_dataset))"
      ],
      "metadata": {
        "id": "YqLCI6V2G-og"
      },
      "execution_count": null,
      "outputs": []
    },
    {
      "cell_type": "code",
      "source": [
        "device = torch.device(\"cuda\" if torch.cuda.is_available() else \"cpu\")\n",
        "model = CalculateMLP(**MODEL_PARAMS)\n",
        "model.to(device)"
      ],
      "metadata": {
        "colab": {
          "base_uri": "https://localhost:8080/"
        },
        "id": "NEHEsgmYTX3a",
        "outputId": "7d1f0102-8138-4bf9-a22a-f1d36b2d4f9a"
      },
      "execution_count": null,
      "outputs": [
        {
          "output_type": "execute_result",
          "data": {
            "text/plain": [
              "CalculateMLP(\n",
              "  (net): Sequential(\n",
              "    (0): Linear(in_features=3, out_features=64, bias=True)\n",
              "    (1): ReLU()\n",
              "    (2): Linear(in_features=64, out_features=1, bias=True)\n",
              "  )\n",
              ")"
            ]
          },
          "metadata": {},
          "execution_count": 8
        }
      ]
    },
    {
      "cell_type": "code",
      "source": [
        "epochs = 1000\n",
        "criterion = nn.MSELoss()\n",
        "optimizer = optim.Adam(model.parameters(), lr=0.001)"
      ],
      "metadata": {
        "id": "wpRNMdmYHAXb"
      },
      "execution_count": null,
      "outputs": []
    },
    {
      "cell_type": "code",
      "source": [
        "# 학습 루프\n",
        "for epoch in range(epochs):\n",
        "    model.train()\n",
        "    for batch_x, batch_y in train_loader:\n",
        "        batch_x = batch_x.to(device)\n",
        "        batch_y = batch_y.to(device)\n",
        "\n",
        "        logits = model(batch_x)\n",
        "        loss = criterion(logits, batch_y)\n",
        "\n",
        "        optimizer.zero_grad()\n",
        "        loss.backward()\n",
        "        optimizer.step()\n",
        "\n",
        "    if (epoch + 1) % 100 == 0:\n",
        "        print(f\"Epoch {epoch+1}, Loss: {loss.item():.4f}\")"
      ],
      "metadata": {
        "colab": {
          "base_uri": "https://localhost:8080/"
        },
        "id": "CHqXEZQIHCv_",
        "outputId": "f5025f0a-bff0-419e-e3f4-f33e8b811993"
      },
      "execution_count": null,
      "outputs": [
        {
          "output_type": "stream",
          "name": "stdout",
          "text": [
            "Epoch 100, Loss: 72.7563\n",
            "Epoch 200, Loss: 15.2036\n",
            "Epoch 300, Loss: 14.4463\n",
            "Epoch 400, Loss: 10.0892\n",
            "Epoch 500, Loss: 21.5921\n",
            "Epoch 600, Loss: 0.5456\n",
            "Epoch 700, Loss: 0.5388\n",
            "Epoch 800, Loss: 1.5518\n",
            "Epoch 900, Loss: 0.2187\n",
            "Epoch 1000, Loss: 0.1305\n"
          ]
        }
      ]
    },
    {
      "cell_type": "code",
      "execution_count": null,
      "metadata": {
        "colab": {
          "base_uri": "https://localhost:8080/"
        },
        "collapsed": true,
        "id": "DhdTN2sc84w8",
        "outputId": "de7d3cbb-51c7-4d98-f274-a4f624ed02ca"
      },
      "outputs": [
        {
          "output_type": "stream",
          "name": "stdout",
          "text": [
            "\n",
            "Test Accuracy: 67.33%\n",
            "\n",
            "Input: 4 - 6 = Predicted: -2, Target: -2\n",
            "Input: 3 / 6 = Predicted: 0, Target: 0\n",
            "Input: 7 + 7 = Predicted: 14, Target: 14\n",
            "Input: 6 * 1 = Predicted: 7, Target: 6\n",
            "Input: 0 + 9 = Predicted: 9, Target: 9\n",
            "Input: 8 - 9 = Predicted: -2, Target: -1\n",
            "Input: 4 / 2 = Predicted: 3, Target: 2\n",
            "Input: 5 / 8 = Predicted: 0, Target: 0\n",
            "Input: 1 / 2 = Predicted: 0, Target: 0\n",
            "Input: 9 + 4 = Predicted: 12, Target: 13\n"
          ]
        }
      ],
      "source": [
        "# 평가model.eval()\n",
        "with torch.no_grad():\n",
        "    test_x, test_y = next(iter(test_loader))\n",
        "    test_x = test_x.to(device)\n",
        "    test_y = test_y.to(device)\n",
        "\n",
        "    preds = model(test_x).round()\n",
        "    accuracy = (preds == test_y).float().mean()\n",
        "    print(f\"\\nTest Accuracy: {accuracy.item() * 100:.2f}%\\n\")\n",
        "\n",
        "    # 예시 출력\n",
        "    op_symbol = ['+', '-', '*', '/']\n",
        "    for i in range(10):\n",
        "        input_expr = test_x[i].tolist()\n",
        "        predicted = int(preds[i].item())\n",
        "        target = int(test_y[i].item())\n",
        "        print(f\"Input: {int(input_expr[0])} {op_symbol[int(input_expr[1])]} {int(input_expr[2])} = Predicted: {predicted}, Target: {target}\")\n"
      ]
    },
    {
      "cell_type": "code",
      "source": [
        "op_map = {'+': 0, '-': 1, '*': 2, '/': 3}\n",
        "device = torch.device(\"cuda\" if torch.cuda.is_available() else \"cpu\")\n",
        "\n",
        "print(\"\\n사칙연산 계산기 (종료하려면 'exit' 입력)\")\n",
        "model.eval()  # 루프 밖으로 이동\n",
        "while True:\n",
        "    user_input = input(\"입력 (예: 3 + 4): \")\n",
        "    if user_input.lower() == 'exit':\n",
        "        print(\"계산기를 종료합니다.\")\n",
        "        break\n",
        "\n",
        "    try:\n",
        "        # 공백 없는 입력도 처리 가능하도록 (예: \"3+4\")\n",
        "        for op in op_map.keys():\n",
        "            if op in user_input:\n",
        "                parts = user_input.replace(op, f' {op} ').split()\n",
        "                break\n",
        "        else:\n",
        "            raise ValueError(\"올바른 연산자가 없습니다.\")\n",
        "\n",
        "        num1, op, num2 = parts\n",
        "        num1 = int(num1)\n",
        "        num2 = int(num2)\n",
        "\n",
        "        op_idx = op_map[op]\n",
        "        x = torch.tensor([[num1, op_idx, num2]], dtype=torch.float32).to(device)\n",
        "\n",
        "        with torch.no_grad():\n",
        "            pred = model(x).item()\n",
        "            pred_rounded = round(pred)\n",
        "\n",
        "        print(f\"예측 결과: {pred_rounded}\\n\")\n",
        "\n",
        "    except Exception as e:\n",
        "        print(f\"입력 오류: {e}. 형식에 맞게 다시 입력하세요 (예: 3 + 4)\\n\")\n"
      ],
      "metadata": {
        "colab": {
          "base_uri": "https://localhost:8080/",
          "height": 483
        },
        "id": "GHri6wY-uVVC",
        "outputId": "88e7e574-0f66-4455-9b3c-0e26be3d0e76"
      },
      "execution_count": null,
      "outputs": [
        {
          "output_type": "stream",
          "name": "stdout",
          "text": [
            "\n",
            "사칙연산 계산기 (종료하려면 'exit' 입력)\n",
            "입력 (예: 3 + 4): 5 * 5\n",
            "예측 결과: 23\n",
            "\n"
          ]
        },
        {
          "output_type": "error",
          "ename": "KeyboardInterrupt",
          "evalue": "Interrupted by user",
          "traceback": [
            "\u001b[0;31m---------------------------------------------------------------------------\u001b[0m",
            "\u001b[0;31mKeyboardInterrupt\u001b[0m                         Traceback (most recent call last)",
            "\u001b[0;32m<ipython-input-14-614d32c970b3>\u001b[0m in \u001b[0;36m<cell line: 0>\u001b[0;34m()\u001b[0m\n\u001b[1;32m      5\u001b[0m \u001b[0mmodel\u001b[0m\u001b[0;34m.\u001b[0m\u001b[0meval\u001b[0m\u001b[0;34m(\u001b[0m\u001b[0;34m)\u001b[0m  \u001b[0;31m# 루프 밖으로 이동\u001b[0m\u001b[0;34m\u001b[0m\u001b[0;34m\u001b[0m\u001b[0m\n\u001b[1;32m      6\u001b[0m \u001b[0;32mwhile\u001b[0m \u001b[0;32mTrue\u001b[0m\u001b[0;34m:\u001b[0m\u001b[0;34m\u001b[0m\u001b[0;34m\u001b[0m\u001b[0m\n\u001b[0;32m----> 7\u001b[0;31m     \u001b[0muser_input\u001b[0m \u001b[0;34m=\u001b[0m \u001b[0minput\u001b[0m\u001b[0;34m(\u001b[0m\u001b[0;34m\"입력 (예: 3 + 4): \"\u001b[0m\u001b[0;34m)\u001b[0m\u001b[0;34m\u001b[0m\u001b[0;34m\u001b[0m\u001b[0m\n\u001b[0m\u001b[1;32m      8\u001b[0m     \u001b[0;32mif\u001b[0m \u001b[0muser_input\u001b[0m\u001b[0;34m.\u001b[0m\u001b[0mlower\u001b[0m\u001b[0;34m(\u001b[0m\u001b[0;34m)\u001b[0m \u001b[0;34m==\u001b[0m \u001b[0;34m'exit'\u001b[0m\u001b[0;34m:\u001b[0m\u001b[0;34m\u001b[0m\u001b[0;34m\u001b[0m\u001b[0m\n\u001b[1;32m      9\u001b[0m         \u001b[0mprint\u001b[0m\u001b[0;34m(\u001b[0m\u001b[0;34m\"계산기를 종료합니다.\"\u001b[0m\u001b[0;34m)\u001b[0m\u001b[0;34m\u001b[0m\u001b[0;34m\u001b[0m\u001b[0m\n",
            "\u001b[0;32m/usr/local/lib/python3.11/dist-packages/ipykernel/kernelbase.py\u001b[0m in \u001b[0;36mraw_input\u001b[0;34m(self, prompt)\u001b[0m\n\u001b[1;32m   1175\u001b[0m                 \u001b[0;34m\"raw_input was called, but this frontend does not support input requests.\"\u001b[0m\u001b[0;34m\u001b[0m\u001b[0;34m\u001b[0m\u001b[0m\n\u001b[1;32m   1176\u001b[0m             )\n\u001b[0;32m-> 1177\u001b[0;31m         return self._input_request(\n\u001b[0m\u001b[1;32m   1178\u001b[0m             \u001b[0mstr\u001b[0m\u001b[0;34m(\u001b[0m\u001b[0mprompt\u001b[0m\u001b[0;34m)\u001b[0m\u001b[0;34m,\u001b[0m\u001b[0;34m\u001b[0m\u001b[0;34m\u001b[0m\u001b[0m\n\u001b[1;32m   1179\u001b[0m             \u001b[0mself\u001b[0m\u001b[0;34m.\u001b[0m\u001b[0m_parent_ident\u001b[0m\u001b[0;34m[\u001b[0m\u001b[0;34m\"shell\"\u001b[0m\u001b[0;34m]\u001b[0m\u001b[0;34m,\u001b[0m\u001b[0;34m\u001b[0m\u001b[0;34m\u001b[0m\u001b[0m\n",
            "\u001b[0;32m/usr/local/lib/python3.11/dist-packages/ipykernel/kernelbase.py\u001b[0m in \u001b[0;36m_input_request\u001b[0;34m(self, prompt, ident, parent, password)\u001b[0m\n\u001b[1;32m   1217\u001b[0m             \u001b[0;32mexcept\u001b[0m \u001b[0mKeyboardInterrupt\u001b[0m\u001b[0;34m:\u001b[0m\u001b[0;34m\u001b[0m\u001b[0;34m\u001b[0m\u001b[0m\n\u001b[1;32m   1218\u001b[0m                 \u001b[0;31m# re-raise KeyboardInterrupt, to truncate traceback\u001b[0m\u001b[0;34m\u001b[0m\u001b[0;34m\u001b[0m\u001b[0m\n\u001b[0;32m-> 1219\u001b[0;31m                 \u001b[0;32mraise\u001b[0m \u001b[0mKeyboardInterrupt\u001b[0m\u001b[0;34m(\u001b[0m\u001b[0;34m\"Interrupted by user\"\u001b[0m\u001b[0;34m)\u001b[0m \u001b[0;32mfrom\u001b[0m \u001b[0;32mNone\u001b[0m\u001b[0;34m\u001b[0m\u001b[0;34m\u001b[0m\u001b[0m\n\u001b[0m\u001b[1;32m   1220\u001b[0m             \u001b[0;32mexcept\u001b[0m \u001b[0mException\u001b[0m\u001b[0;34m:\u001b[0m\u001b[0;34m\u001b[0m\u001b[0;34m\u001b[0m\u001b[0m\n\u001b[1;32m   1221\u001b[0m                 \u001b[0mself\u001b[0m\u001b[0;34m.\u001b[0m\u001b[0mlog\u001b[0m\u001b[0;34m.\u001b[0m\u001b[0mwarning\u001b[0m\u001b[0;34m(\u001b[0m\u001b[0;34m\"Invalid Message:\"\u001b[0m\u001b[0;34m,\u001b[0m \u001b[0mexc_info\u001b[0m\u001b[0;34m=\u001b[0m\u001b[0;32mTrue\u001b[0m\u001b[0;34m)\u001b[0m\u001b[0;34m\u001b[0m\u001b[0;34m\u001b[0m\u001b[0m\n",
            "\u001b[0;31mKeyboardInterrupt\u001b[0m: Interrupted by user"
          ]
        }
      ]
    },
    {
      "cell_type": "markdown",
      "source": [
        "위 계산기를 RNN으로 다시"
      ],
      "metadata": {
        "id": "XuEFdikdy9i2"
      }
    },
    {
      "cell_type": "code",
      "source": [
        "# 사칙연산 계산 함수\n",
        "def calculate(num1, op, num2):\n",
        "    if op == 0:\n",
        "        return num1 + num2\n",
        "    elif op == 1:\n",
        "        return num1 - num2\n",
        "    elif op == 2:\n",
        "        return num1 * num2\n",
        "    elif op == 3:\n",
        "        return num1 // num2 if num2 != 0 else 0"
      ],
      "metadata": {
        "id": "vdyXyU9IP6IP"
      },
      "execution_count": null,
      "outputs": []
    },
    {
      "cell_type": "code",
      "source": [
        "# 커스텀 Dataset 클래스\n",
        "class ArithmeticDataset(Dataset):\n",
        "    def __init__(self, num_samples=1000):\n",
        "        self.data = []\n",
        "        self.labels = []\n",
        "        for _ in range(num_samples):\n",
        "            num1 = random.randint(0, 9)\n",
        "            num2 = random.randint(1, 9)  # 0 나눗셈 방지\n",
        "            op = random.randint(0, 3)\n",
        "            x = [[num1], [op], [num2]]\n",
        "            y = calculate(num1, op, num2)\n",
        "            y_shifted = y + 9  # -9 ~ 81 → 0 ~ 90\n",
        "            self.data.append(torch.tensor(x, dtype=torch.float32))\n",
        "            self.labels.append(torch.tensor(y_shifted, dtype=torch.long))\n",
        "\n",
        "    def __len__(self):\n",
        "        return len(self.data)\n",
        "\n",
        "    def __getitem__(self, idx):\n",
        "        return self.data[idx], self.labels[idx]"
      ],
      "metadata": {
        "id": "kCS6yUliQDwy"
      },
      "execution_count": null,
      "outputs": []
    },
    {
      "cell_type": "code",
      "source": [
        "# 모델 정의(RNN)\n",
        "class MathRNN(nn.Module):\n",
        "    def __init__(self, input_dim=1, hidden_dim=64, output_dim=91, num_layers=1):\n",
        "        super().__init__()\n",
        "        self.rnn = nn.RNN(input_dim, hidden_dim, num_layers, batch_first=True)\n",
        "        self.fc = nn.Linear(hidden_dim, output_dim)\n",
        "\n",
        "    def forward(self, x):\n",
        "        out, _ = self.rnn(x)\n",
        "        out_last = out[:, -1, :]\n",
        "        logits = self.fc(out_last)\n",
        "        return logits"
      ],
      "metadata": {
        "id": "IA4e267tQGgx"
      },
      "execution_count": null,
      "outputs": []
    },
    {
      "cell_type": "code",
      "source": [
        "# 하이퍼파라미터\n",
        "input_dim = 1\n",
        "hidden_dim = 64\n",
        "output_dim = 91\n",
        "epochs = 500\n",
        "batch_size = 64"
      ],
      "metadata": {
        "id": "rv9MGAhoQJ6w"
      },
      "execution_count": null,
      "outputs": []
    },
    {
      "cell_type": "code",
      "source": [
        "# 데이터셋 및 데이터로더\n",
        "train_dataset = ArithmeticDataset(num_samples=2000)\n",
        "test_dataset = ArithmeticDataset(num_samples=300)\n",
        "train_loader = DataLoader(train_dataset, batch_size=batch_size, shuffle=True)\n",
        "test_loader = DataLoader(test_dataset, batch_size=len(test_dataset), shuffle=False)"
      ],
      "metadata": {
        "id": "W4HNrq-dQLxH"
      },
      "execution_count": null,
      "outputs": []
    },
    {
      "cell_type": "code",
      "source": [
        "# 모델, 손실함수, 옵티마이저 정의\n",
        "model = MathRNN(input_dim, hidden_dim, output_dim)\n",
        "criterion = nn.CrossEntropyLoss()\n",
        "optimizer = optim.Adam(model.parameters(), lr=0.001)"
      ],
      "metadata": {
        "id": "3AlT-JbOQOtg"
      },
      "execution_count": null,
      "outputs": []
    },
    {
      "cell_type": "code",
      "source": [
        "# 학습 루프\n",
        "for epoch in range(epochs):\n",
        "    for batch_x, batch_y in train_loader:\n",
        "        logits = model(batch_x)\n",
        "        loss = criterion(logits, batch_y)\n",
        "\n",
        "        optimizer.zero_grad()\n",
        "        loss.backward()\n",
        "        optimizer.step()\n",
        "\n",
        "    if (epoch + 1) % 10 == 0:\n",
        "        print(f\"Epoch {epoch+1}, Loss: {loss.item():.4f}\")"
      ],
      "metadata": {
        "colab": {
          "base_uri": "https://localhost:8080/"
        },
        "id": "XY98CRg8QZZS",
        "outputId": "00083b3d-81e6-4dac-947f-91959926ee8c"
      },
      "execution_count": null,
      "outputs": [
        {
          "output_type": "stream",
          "name": "stdout",
          "text": [
            "Epoch 10, Loss: 2.6448\n",
            "Epoch 20, Loss: 2.4971\n",
            "Epoch 30, Loss: 1.7586\n",
            "Epoch 40, Loss: 1.1445\n",
            "Epoch 50, Loss: 1.8271\n",
            "Epoch 60, Loss: 1.4649\n",
            "Epoch 70, Loss: 1.3601\n",
            "Epoch 80, Loss: 1.0544\n",
            "Epoch 90, Loss: 1.1311\n",
            "Epoch 100, Loss: 0.8696\n",
            "Epoch 110, Loss: 0.9073\n",
            "Epoch 120, Loss: 0.5991\n",
            "Epoch 130, Loss: 0.8833\n",
            "Epoch 140, Loss: 0.7177\n",
            "Epoch 150, Loss: 0.4073\n",
            "Epoch 160, Loss: 0.5185\n",
            "Epoch 170, Loss: 0.5421\n",
            "Epoch 180, Loss: 0.5439\n",
            "Epoch 190, Loss: 0.4995\n",
            "Epoch 200, Loss: 0.5025\n",
            "Epoch 210, Loss: 0.5955\n",
            "Epoch 220, Loss: 0.3838\n",
            "Epoch 230, Loss: 0.2751\n",
            "Epoch 240, Loss: 0.3822\n",
            "Epoch 250, Loss: 0.3236\n",
            "Epoch 260, Loss: 0.3251\n",
            "Epoch 270, Loss: 0.1859\n",
            "Epoch 280, Loss: 0.3564\n",
            "Epoch 290, Loss: 0.1489\n",
            "Epoch 300, Loss: 0.1600\n",
            "Epoch 310, Loss: 0.1436\n",
            "Epoch 320, Loss: 0.1128\n",
            "Epoch 330, Loss: 0.1515\n",
            "Epoch 340, Loss: 0.0780\n",
            "Epoch 350, Loss: 0.1011\n",
            "Epoch 360, Loss: 0.0973\n",
            "Epoch 370, Loss: 0.0754\n",
            "Epoch 380, Loss: 0.1641\n",
            "Epoch 390, Loss: 0.1040\n",
            "Epoch 400, Loss: 0.0442\n",
            "Epoch 410, Loss: 0.0538\n",
            "Epoch 420, Loss: 0.0515\n",
            "Epoch 430, Loss: 0.0507\n",
            "Epoch 440, Loss: 0.0570\n",
            "Epoch 450, Loss: 0.0385\n",
            "Epoch 460, Loss: 0.0551\n",
            "Epoch 470, Loss: 0.0318\n",
            "Epoch 480, Loss: 0.0388\n",
            "Epoch 490, Loss: 0.0175\n",
            "Epoch 500, Loss: 0.0266\n"
          ]
        }
      ]
    },
    {
      "cell_type": "code",
      "source": [
        "# 평가\n",
        "with torch.no_grad():\n",
        "    for test_x, test_y in test_loader:\n",
        "        preds = model(test_x).argmax(dim=1)\n",
        "        preds_real = preds - 9\n",
        "        test_real = test_y - 9\n",
        "        accuracy = (preds_real == test_real).float().mean()\n",
        "        print(f\"\\nTest Accuracy: {accuracy.item() * 100:.2f}%\")\n",
        "\n",
        "        # 예시 출력\n",
        "        for i in range(10):\n",
        "            input_expr = test_x[i].squeeze(-1).tolist()\n",
        "            predicted = preds_real[i].item()\n",
        "            target = test_real[i].item()\n",
        "            op_symbol = ['+', '-', '*', '/'][int(input_expr[1])]\n",
        "            print(f\"Input: {int(input_expr[0])} {op_symbol} {int(input_expr[2])} = Predicted: {predicted}, Target: {target}\")\n"
      ],
      "metadata": {
        "id": "gW__n1NPy9Fy",
        "colab": {
          "base_uri": "https://localhost:8080/"
        },
        "outputId": "0dc23a7e-7371-4e93-a757-a71dae8835c4"
      },
      "execution_count": null,
      "outputs": [
        {
          "output_type": "stream",
          "name": "stdout",
          "text": [
            "\n",
            "Test Accuracy: 99.67%\n",
            "Input: 4 * 3 = Predicted: 12, Target: 12\n",
            "Input: 2 / 6 = Predicted: 0, Target: 0\n",
            "Input: 0 * 2 = Predicted: 0, Target: 0\n",
            "Input: 0 * 4 = Predicted: 0, Target: 0\n",
            "Input: 3 - 9 = Predicted: -6, Target: -6\n",
            "Input: 6 / 9 = Predicted: 0, Target: 0\n",
            "Input: 8 - 5 = Predicted: 3, Target: 3\n",
            "Input: 7 * 8 = Predicted: 56, Target: 56\n",
            "Input: 3 / 7 = Predicted: 0, Target: 0\n",
            "Input: 1 * 1 = Predicted: 1, Target: 1\n"
          ]
        }
      ]
    },
    {
      "cell_type": "code",
      "source": [
        "op_map = {'+': 0, '-': 1, '*': 2, '/': 3}\n",
        "\n",
        "print(\"\\n사칙연산 계산기 (종료하려면 'exit' 입력)\")\n",
        "while True:\n",
        "    user_input = input(\"입력 (예: 3 + 4): \")\n",
        "    if user_input.lower() == 'exit':\n",
        "        print(\"계산기를 종료합니다.\")\n",
        "        break\n",
        "    else:\n",
        "        num1, op, num2 = user_input.strip().split()\n",
        "        num1 = int(num1)\n",
        "        num2 = int(num2)\n",
        "        op_idx = op_map[op]\n",
        "        x = torch.tensor([[[num1], [op_idx], [num2]]], dtype=torch.float32)\n",
        "        model.eval()\n",
        "        with torch.no_grad():\n",
        "            pred = model(x).argmax(dim=1).item() - 9\n",
        "        print(f\"예측 결과: {pred}\\n\")"
      ],
      "metadata": {
        "id": "a4Up2TREzNRn",
        "colab": {
          "base_uri": "https://localhost:8080/"
        },
        "outputId": "f6e831aa-245f-4dc4-83d9-daaf7c07b6da"
      },
      "execution_count": null,
      "outputs": [
        {
          "output_type": "stream",
          "name": "stdout",
          "text": [
            "\n",
            "사칙연산 계산기 (종료하려면 'exit' 입력)\n",
            "입력 (예: 3 + 4): 3 + 2\n",
            "예측 결과: 5\n",
            "\n",
            "입력 (예: 3 + 4): exit\n",
            "계산기를 종료합니다.\n"
          ]
        }
      ]
    }
  ]
}