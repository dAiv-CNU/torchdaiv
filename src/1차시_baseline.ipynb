{
 "cells": [
  {
   "metadata": {},
   "cell_type": "markdown",
   "source": [
    "# 1차시: Neural Network 기초\n",
    "#### Import"
   ],
   "id": "b67c80cb742fc4d7"
  },
  {
   "metadata": {},
   "cell_type": "code",
   "source": "!pip install --upgrade git+https://github.com/dAiv-CNU/torchdaiv.git",
   "id": "ab604ddbce2f2610",
   "outputs": [],
   "execution_count": null
  },
  {
   "metadata": {},
   "cell_type": "code",
   "source": [
    "import torch\n",
    "import torch.nn.functional as F\n",
    "from torch.utils.data import DataLoader\n",
    "\n",
    "from torchdaiv import datasets\n",
    "from torchdaiv.lectures.emotion import nn\n",
    "from torchdaiv.lectures.emotion.util import vocabulary, transforms\n",
    "\n",
    "from rich.traceback import install\n",
    "install(show_locals=True)"
   ],
   "id": "initial_id",
   "outputs": [],
   "execution_count": null
  },
  {
   "metadata": {},
   "cell_type": "markdown",
   "source": "#### Load Dataset",
   "id": "51043c5074bd11aa"
  },
  {
   "metadata": {},
   "cell_type": "code",
   "source": [
    "# 사전 생성기 초기화, 데이터셋 로드\n",
    "vocab, to_vocab = vocabulary.vocabulary_creator()\n",
    "train_dataset = datasets.EmotionDataset(\"./data\", download=False, train=True, transform=to_vocab)\n",
    "test_dataset = datasets.EmotionDataset(\"./data\", download=False, train=False, transform=to_vocab)"
   ],
   "id": "f1d5a84af133c940",
   "outputs": [],
   "execution_count": null
  },
  {
   "metadata": {},
   "cell_type": "code",
   "source": [
    "# 데이터셋 형태 확인\n",
    "for i, (text, emotion) in zip(range(10), train_dataset):\n",
    "    print(f\"{i}: {text} -> {emotion}\")"
   ],
   "id": "20a9d1f8d31ef598",
   "outputs": [],
   "execution_count": null
  },
  {
   "metadata": {},
   "cell_type": "code",
   "source": [
    "# vocab 생성 후 데이터셋을 텐서로 변환\n",
    "train_dataset.transform(\n",
    "    transform=transforms.to_tensor(vocabulary=vocab, show_graph=True),\n",
    "    target_transform=transforms.label_to_tensor\n",
    ")\n",
    "test_dataset.transform(\n",
    "    transform=transforms.to_tensor(vocabulary=vocab, show_graph=True),\n",
    "    target_transform=transforms.label_to_tensor\n",
    ")"
   ],
   "id": "3aec457d072e24e0",
   "outputs": [],
   "execution_count": null
  },
  {
   "metadata": {},
   "cell_type": "code",
   "source": [
    "# 텐서 크기 조정\n",
    "max_token_size = 80\n",
    "train_dataset.transform(transform=transforms.size_to(max_token_size))\n",
    "test_dataset.transform(transform=transforms.size_to(max_token_size))"
   ],
   "id": "eb02c2deb0e06cd1",
   "outputs": [],
   "execution_count": null
  },
  {
   "metadata": {},
   "cell_type": "code",
   "source": [
    "# 변환된 데이터 형태 확인\n",
    "for i, (text, emotion) in zip(range(10), train_dataset):\n",
    "    print(f\"{i}: {text} -> {emotion}\")"
   ],
   "id": "850fb388ea137885",
   "outputs": [],
   "execution_count": null
  },
  {
   "metadata": {},
   "cell_type": "markdown",
   "source": "#### DataLoader",
   "id": "185e853d7f587a96"
  },
  {
   "metadata": {},
   "cell_type": "code",
   "source": [
    "batch_size = 32\n",
    "\n",
    "train_dataloader = DataLoader(train_dataset, batch_size=batch_size, shuffle=True)\n",
    "test_dataloader = DataLoader(test_dataset, shuffle=True)"
   ],
   "id": "61be4a37f0db074f",
   "outputs": [],
   "execution_count": null
  },
  {
   "metadata": {},
   "cell_type": "markdown",
   "source": "#### Model Definition",
   "id": "74243a0032c187c7"
  },
  {
   "metadata": {},
   "cell_type": "code",
   "source": [
    "# 모델 정의\n",
    "class MyModel(nn.Module):\n",
    "    def __init__(self, input_max_token: int, hidden_size: int):\n",
    "        super(MyModel, self).__init__()\n",
    "        self.input = nn.Linear(input_max_token, hidden_size)\n",
    "        self.fc1 = nn.Linear(hidden_size, hidden_size // 2)\n",
    "        self.fc2 = nn.Linear(hidden_size // 2, 3)\n",
    "\n",
    "    def forward(self, x):\n",
    "        h1 = F.relu(self.input(x))\n",
    "        h2 = F.relu(self.fc1(h1))\n",
    "        out = self.fc2(h2)\n",
    "        return out"
   ],
   "id": "6849282f41614b65",
   "outputs": [],
   "execution_count": null
  },
  {
   "metadata": {},
   "cell_type": "code",
   "source": [
    "# 하이퍼 파라미터 설정\n",
    "epochs = 50\n",
    "learning_rate = 1e-4\n",
    "hidden_layer_size = 128 * 5"
   ],
   "id": "bd067fe2e30548a2",
   "outputs": [],
   "execution_count": null
  },
  {
   "metadata": {},
   "cell_type": "code",
   "source": [
    "# 모델 생성 및 데이터 로더 지정\n",
    "model = MyModel(input_max_token=max_token_size, hidden_size=hidden_layer_size)\n",
    "model.set_dataloader(train_dataloader, test_dataloader)\n",
    "model"
   ],
   "id": "ae3414360d7a3a3a",
   "outputs": [],
   "execution_count": null
  },
  {
   "metadata": {},
   "cell_type": "code",
   "source": [
    "# Use CUDA driver if available\n",
    "if torch.cuda.is_available():\n",
    "    model.to(\"cuda\", non_blocking=True)\n",
    "print(\"Use Device:\", model.device.upper())"
   ],
   "id": "edfab31607462d35",
   "outputs": [],
   "execution_count": null
  },
  {
   "metadata": {},
   "cell_type": "markdown",
   "source": "#### Training",
   "id": "ef19bae9708a1442"
  },
  {
   "metadata": {},
   "cell_type": "code",
   "source": [
    "# Train Dataset에 대해서 학습 시작\n",
    "model.train(epochs=epochs, optimizer_init=True, lr=learning_rate)"
   ],
   "id": "380143f89c49fd48",
   "outputs": [],
   "execution_count": null
  },
  {
   "metadata": {},
   "cell_type": "markdown",
   "source": "#### Evaluation",
   "id": "5bcc8bb008bed590"
  },
  {
   "metadata": {},
   "cell_type": "code",
   "source": [
    "# Test Dataset에 대해서 평가 진행\n",
    "model.evaluate()"
   ],
   "id": "6e0ad5146550b228",
   "outputs": [],
   "execution_count": null
  },
  {
   "metadata": {},
   "cell_type": "markdown",
   "source": "#### Prediction",
   "id": "d6f17d90a8136bbb"
  },
  {
   "metadata": {},
   "cell_type": "code",
   "source": [
    "# 토큰화 및 텐서 변환 후 직접 입력한 문장 분류\n",
    "transform_sequence = [\n",
    "    transforms.to_tensor(vocabulary=vocab, show_graph=False),\n",
    "    transforms.size_to(max_token_size)\n",
    "]"
   ],
   "id": "f9eef1db83732178",
   "outputs": [],
   "execution_count": null
  },
  {
   "metadata": {},
   "cell_type": "code",
   "source": "model.pipeline(message=\"안녕하세요! 반갑습니다!\", transform=transform_sequence)",
   "id": "d0c61d01e36ebb02",
   "outputs": [],
   "execution_count": null
  },
  {
   "metadata": {},
   "cell_type": "code",
   "source": "model.pipeline(message=\"이건 좀 아닌거 같음\", transform=transform_sequence)",
   "id": "4159d2d315901eaf",
   "outputs": [],
   "execution_count": null
  },
  {
   "metadata": {},
   "cell_type": "code",
   "source": "model.pipeline(message=\"못 생겼음\", transform=transform_sequence)",
   "id": "4941ba96661ce957",
   "outputs": [],
   "execution_count": null
  },
  {
   "metadata": {},
   "cell_type": "code",
   "source": "model.pipeline(message=\"잘 받았습니다.\", transform=transform_sequence)",
   "id": "fa51579ff931e56c",
   "outputs": [],
   "execution_count": null
  },
  {
   "metadata": {},
   "cell_type": "code",
   "source": "model.pipeline(message=\"잘 모르겠네요...\", transform=transform_sequence)",
   "id": "2d86cd818c43a551",
   "outputs": [],
   "execution_count": null
  },
  {
   "metadata": {},
   "cell_type": "code",
   "source": "model.pipeline(message=\"색상별로 사이즈가 너무 다르네요 반품귀찮아서 그냥 대충 입으려구요  여름에입긴 더울거같네요 봄.가을용입니다\", transform=transform_sequence)",
   "id": "5146254b4635bc65",
   "outputs": [],
   "execution_count": null
  },
  {
   "metadata": {},
   "cell_type": "code",
   "source": "model.pipeline(message=\"기대를 안했는데  바지가 생각보다  착용감 편하고 가볍네요 근데 한가지 허리밴드부분이 너무  널어서 좀~  쪼금안 덜  넓었으면 좋겠어요\", transform=transform_sequence)",
   "id": "20706054135c5f86",
   "outputs": [],
   "execution_count": null
  },
  {
   "metadata": {},
   "cell_type": "code",
   "source": "",
   "id": "c944461cf4177ad4",
   "outputs": [],
   "execution_count": null
  }
 ],
 "metadata": {
  "kernelspec": {
   "display_name": "Python 3",
   "language": "python",
   "name": "python3"
  },
  "language_info": {
   "codemirror_mode": {
    "name": "ipython",
    "version": 2
   },
   "file_extension": ".py",
   "mimetype": "text/x-python",
   "name": "python",
   "nbconvert_exporter": "python",
   "pygments_lexer": "ipython2",
   "version": "2.7.6"
  }
 },
 "nbformat": 4,
 "nbformat_minor": 5
}
